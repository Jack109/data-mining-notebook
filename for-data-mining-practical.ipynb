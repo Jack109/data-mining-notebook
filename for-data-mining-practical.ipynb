{
 "cells": [
  {
   "cell_type": "code",
   "execution_count": 13,
   "metadata": {},
   "outputs": [
    {
     "data": {
      "image/png": "[encoded data removed]",
      "text/plain": [
       "<matplotlib.figure.Figure at 0x7fa4f803e518>"
      ]
     },
     "metadata": {},
     "output_type": "display_data"
    },
    {
     "data": {
      "image/png": "[encoded data removed]",
      "text/plain": [
       "<matplotlib.figure.Figure at 0x7fa4f803e4e0>"
      ]
     },
     "metadata": {},
     "output_type": "display_data"
    }
   ],
   "source": [
    "import matplotlib.pyplot as plt \n",
    "import numpy as np\n",
    "plt.plot(np.array([1,2,3,4]), np.array([5,6,7,8]),'rx') # Dot plot\n",
    "plt.show()\n",
    "plt.plot(np.array([1,2,3,4]), np.array([5,6,7,8])) # Line plot\n",
    "plt.show()"
   ]
  },
  {
   "cell_type": "code",
   "execution_count": null,
   "metadata": {},
   "outputs": [],
   "source": [
    "\n",
    "x = np.array([1,4,5,2,3,1,2,3])\n",
    "y = np.array([6,7,1,3,5,45,22,1])\n",
    "plt.plot(x, y, 'ro')\n",
    "plt.plot(x+5, y*2, 'g^')\n",
    "plt.plot(x/2, y*3, 'b*')\n",
    "plt.show()"
   ]
  },
  {
   "cell_type": "code",
   "execution_count": null,
   "metadata": {},
   "outputs": [],
   "source": [
    "import matplotlib.pyplot as plt\n",
    "import numpy as np\n",
    "x = np.array([0,1,2,3,4,5,6,7])\n",
    "y = np.array([0,1,2,3,4,5,6,7])\n",
    "plt.plot(x, y)\n",
    "plt.legend(\"1\")\n",
    "plt.plot(x*2, y*1.1)\n",
    "plt.legend(\"2\")\n",
    "plt.plot([1,4,3,2,5,4,2,1])\n",
    "plt.xlabel(\"hello\")\n",
    "plt.ylabel(\"count\")\n",
    "plt.show()"
   ]
  },
  {
   "cell_type": "code",
   "execution_count": 10,
   "metadata": {},
   "outputs": [
    {
     "name": "stdout",
     "output_type": "stream",
     "text": [
      "Min = [150   0   0]\n",
      "[190  99   1]\n",
      "[170.33333333  26.33333333   0.5       ]\n",
      "[11.91171226 35.07452383  0.5       ]\n"
     ]
    }
   ],
   "source": [
    "import numpy as np\n",
    "# Height, Hair-length, gender (1 = M , 0 = F)\n",
    "student_records = np.array([\n",
    "    [171, 5, 1],\n",
    "    [171, 4, 1],\n",
    "    [165, 99, 0],\n",
    "    [190, 40, 0],\n",
    "    [150, 0, 1],\n",
    "    [175, 10, 0]\n",
    "])\n",
    "print(f\"Min = {np.min(student_records, axis = 0)}\")\n",
    "print(np.max(student_records, axis = 0))\n",
    "print(np.mean(student_records, axis = 0))\n",
    "print(np.std(student_records, axis = 0)) # Standard deviation"
   ]
  },
  {
   "cell_type": "code",
   "execution_count": 11,
   "metadata": {},
   "outputs": [
    {
     "name": "stdout",
     "output_type": "stream",
     "text": [
      "[[171   5   1]\n",
      " [171   4   1]\n",
      " [165  99   0]]\n"
     ]
    }
   ],
   "source": [
    "print(student_records[0:3,:])"
   ]
  },
  {
   "cell_type": "code",
   "execution_count": 14,
   "metadata": {
    "scrolled": true
   },
   "outputs": [
    {
     "data": {
      "image/png": "[encoded data removed]",
      "text/plain": [
       "<matplotlib.figure.Figure at 0x7fa4f8096dd8>"
      ]
     },
     "metadata": {},
     "output_type": "display_data"
    }
   ],
   "source": [
    "heights = student_records[:, 0]\n",
    "hair_lengths = student_records[:, 1]\n",
    "plt.scatter(heights, hair_lengths)\n",
    "plt.show()"
   ]
  },
  {
   "cell_type": "code",
   "execution_count": 15,
   "metadata": {},
   "outputs": [
    {
     "data": {
      "text/plain": [
       "array([ True,  True,  True,  True, False,  True])"
      ]
     },
     "execution_count": 15,
     "metadata": {},
     "output_type": "execute_result"
    }
   ],
   "source": [
    "heights > 160"
   ]
  },
  {
   "cell_type": "code",
   "execution_count": 16,
   "metadata": {},
   "outputs": [
    {
     "data": {
      "text/plain": [
       "array([171, 171, 165, 190, 175])"
      ]
     },
     "execution_count": 16,
     "metadata": {},
     "output_type": "execute_result"
    }
   ],
   "source": [
    "heights[heights > 160]"
   ]
  },
  {
   "cell_type": "code",
   "execution_count": 17,
   "metadata": {},
   "outputs": [
    {
     "data": {
      "text/plain": [
       "array([1, 1, 0, 0, 1, 0])"
      ]
     },
     "execution_count": 17,
     "metadata": {},
     "output_type": "execute_result"
    }
   ],
   "source": [
    "gender = student_records[ : , 2 ] \n",
    "gender"
   ]
  },
  {
   "cell_type": "code",
   "execution_count": 18,
   "metadata": {},
   "outputs": [
    {
     "data": {
      "text/plain": [
       "array([[171,   5,   1],\n",
       "       [171,   4,   1],\n",
       "       [150,   0,   1]])"
      ]
     },
     "execution_count": 18,
     "metadata": {},
     "output_type": "execute_result"
    }
   ],
   "source": [
    "male_students = student_records[gender == 1]\n",
    "male_students"
   ]
  },
  {
   "cell_type": "code",
   "execution_count": null,
   "metadata": {},
   "outputs": [],
   "source": [
    "# Shortcut\n",
    "female_students = student_records[student_records[: , 2] == 0]\n",
    "# Explanation : Take rows from student_records where the 3rd column (indexed-2) is 0\n",
    "female_students"
   ]
  },
  {
   "cell_type": "code",
   "execution_count": null,
   "metadata": {},
   "outputs": [],
   "source": [
    "female_heights = female_students[ : ,0 ] \n",
    "female_hairlengths = female_students[ : , 1 ]\n",
    "plt.scatter(female_heights, female_hairlengths, c='red')\n",
    "male_heights = male_students[ : , 0]\n",
    "male_hairlengths = male_students[ : , 1]\n",
    "plt.scatter(male_heights, male_hairlengths, c='blue')\n",
    "plt.show()"
   ]
  }
 ],
 "metadata": {
  "kernelspec": {
   "display_name": "Python 3",
   "language": "python",
   "name": "python3"
  },
  "language_info": {
   "codemirror_mode": {
    "name": "ipython",
    "version": 3
   },
   "file_extension": ".py",
   "mimetype": "text/x-python",
   "name": "python",
   "nbconvert_exporter": "python",
   "pygments_lexer": "ipython3",
   "version": "3.6.3"
  }
 },
 "nbformat": 4,
 "nbformat_minor": 2
}
