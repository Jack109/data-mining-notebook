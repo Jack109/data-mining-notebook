{
 "cells": [
  {
   "cell_type": "code",
   "execution_count": 6,
   "metadata": {
    "collapsed": true
   },
   "outputs": [],
   "source": [
    "import sklearn.datasets as datasets\n",
    "iris = datasets.load_iris()\n"
   ]
  },
  {
   "cell_type": "code",
   "execution_count": 78,
   "metadata": {},
   "outputs": [
    {
     "name": "stdout",
     "output_type": "stream",
     "text": [
      "[0 1 2 ..., 8 9 8]\n"
     ]
    }
   ],
   "source": [
    "print(digits.target)"
   ]
  },
  {
   "cell_type": "code",
   "execution_count": 8,
   "metadata": {},
   "outputs": [
    {
     "name": "stdout",
     "output_type": "stream",
     "text": [
      "dict_keys(['data', 'target', 'target_names', 'DESCR', 'feature_names'])\n"
     ]
    }
   ],
   "source": [
    "print(iris.keys())"
   ]
  },
  {
   "cell_type": "code",
   "execution_count": 9,
   "metadata": {
    "collapsed": true
   },
   "outputs": [],
   "source": [
    "digits = datasets.load_digits()"
   ]
  },
  {
   "cell_type": "code",
   "execution_count": 10,
   "metadata": {},
   "outputs": [
    {
     "data": {
      "text/plain": [
       "dict_keys(['data', 'target', 'target_names', 'images', 'DESCR'])"
      ]
     },
     "execution_count": 10,
     "metadata": {},
     "output_type": "execute_result"
    }
   ],
   "source": [
    "digits.keys()"
   ]
  },
  {
   "cell_type": "code",
   "execution_count": 11,
   "metadata": {},
   "outputs": [
    {
     "data": {
      "text/plain": [
       "(1797, 64)"
      ]
     },
     "execution_count": 11,
     "metadata": {},
     "output_type": "execute_result"
    }
   ],
   "source": [
    "digits.data.shape"
   ]
  },
  {
   "cell_type": "code",
   "execution_count": 12,
   "metadata": {},
   "outputs": [
    {
     "data": {
      "text/plain": [
       "{0, 1, 2, 3, 4, 5, 6, 7, 8, 9}"
      ]
     },
     "execution_count": 12,
     "metadata": {},
     "output_type": "execute_result"
    }
   ],
   "source": [
    "set(digits.target)"
   ]
  },
  {
   "cell_type": "code",
   "execution_count": 14,
   "metadata": {},
   "outputs": [
    {
     "data": {
      "text/plain": [
       "array([  0.,   0.,   5.,  13.,   9.,   1.,   0.,   0.,   0.,   0.,  13.,\n",
       "        15.,  10.,  15.,   5.,   0.,   0.,   3.,  15.,   2.,   0.,  11.,\n",
       "         8.,   0.,   0.,   4.,  12.,   0.,   0.,   8.,   8.,   0.,   0.,\n",
       "         5.,   8.,   0.,   0.,   9.,   8.,   0.,   0.,   4.,  11.,   0.,\n",
       "         1.,  12.,   7.,   0.,   0.,   2.,  14.,   5.,  10.,  12.,   0.,\n",
       "         0.,   0.,   0.,   6.,  13.,  10.,   0.,   0.,   0.])"
      ]
     },
     "execution_count": 14,
     "metadata": {},
     "output_type": "execute_result"
    }
   ],
   "source": [
    "digits.data[0]　\n",
    "# This is actually a 8 x 8 matrix which represent a drawing of a digit"
   ]
  },
  {
   "cell_type": "code",
   "execution_count": 16,
   "metadata": {},
   "outputs": [
    {
     "data": {
      "text/plain": [
       "0"
      ]
     },
     "execution_count": 16,
     "metadata": {},
     "output_type": "execute_result"
    }
   ],
   "source": [
    "digits.target[0]\n",
    "# So target[0] actually represent the digit zero"
   ]
  },
  {
   "cell_type": "code",
   "execution_count": 17,
   "metadata": {},
   "outputs": [
    {
     "name": "stdout",
     "output_type": "stream",
     "text": [
      "[[  0.   0.   5.  13.   9.   1.   0.   0.]\n",
      " [  0.   0.  13.  15.  10.  15.   5.   0.]\n",
      " [  0.   3.  15.   2.   0.  11.   8.   0.]\n",
      " [  0.   4.  12.   0.   0.   8.   8.   0.]\n",
      " [  0.   5.   8.   0.   0.   9.   8.   0.]\n",
      " [  0.   4.  11.   0.   1.  12.   7.   0.]\n",
      " [  0.   2.  14.   5.  10.  12.   0.   0.]\n",
      " [  0.   0.   6.  13.  10.   0.   0.   0.]]\n"
     ]
    }
   ],
   "source": [
    "print(digits.data[0].reshape(8, 8))"
   ]
  },
  {
   "cell_type": "code",
   "execution_count": 18,
   "metadata": {},
   "outputs": [
    {
     "name": "stdout",
     "output_type": "stream",
     "text": [
      "[[  0.   0.   0.   2.  13.   0.   0.   0.]\n",
      " [  0.   0.   0.   8.  15.   0.   0.   0.]\n",
      " [  0.   0.   5.  16.   5.   2.   0.   0.]\n",
      " [  0.   0.  15.  12.   1.  16.   4.   0.]\n",
      " [  0.   4.  16.   2.   9.  16.   8.   0.]\n",
      " [  0.   0.  10.  14.  16.  16.   4.   0.]\n",
      " [  0.   0.   0.   0.  13.   8.   0.   0.]\n",
      " [  0.   0.   0.   0.  13.   6.   0.   0.]]\n"
     ]
    }
   ],
   "source": [
    "print(digits.data[100].reshape(8,8))"
   ]
  },
  {
   "cell_type": "code",
   "execution_count": 19,
   "metadata": {},
   "outputs": [
    {
     "name": "stdout",
     "output_type": "stream",
     "text": [
      "4\n"
     ]
    }
   ],
   "source": [
    "print(digits.target[100])"
   ]
  },
  {
   "cell_type": "code",
   "execution_count": 28,
   "metadata": {},
   "outputs": [
    {
     "data": {
      "image/png": "[encoded data removed]",
      "text/plain": [
       "<matplotlib.figure.Figure at 0x7f6017e09c18>"
      ]
     },
     "metadata": {},
     "output_type": "display_data"
    }
   ],
   "source": [
    "import matplotlib.pyplot as plt\n",
    "plt.imshow(digits.images[100], cmap = 'gray_r')\n",
    "plt.show()"
   ]
  },
  {
   "cell_type": "code",
   "execution_count": 31,
   "metadata": {
    "collapsed": true
   },
   "outputs": [],
   "source": [
    "import numpy as np\n",
    "def nearestDistance(x, data, target):\n",
    "    return target[np.argmin(np.sum((x- data)**2, axis=1))]"
   ]
  },
  {
   "cell_type": "code",
   "execution_count": 35,
   "metadata": {},
   "outputs": [
    {
     "name": "stdout",
     "output_type": "stream",
     "text": [
      "target is  4\n",
      "prediction is  4\n"
     ]
    },
    {
     "data": {
      "image/png": "[encoded data removed]",
      "text/plain": [
       "<matplotlib.figure.Figure at 0x7f601b6ae860>"
      ]
     },
     "metadata": {},
     "output_type": "display_data"
    }
   ],
   "source": [
    "whichInstance = 756\n",
    "plt.imshow(digits.images[whichInstance], cmap = 'gray_r')\n",
    "print(\"target is \", digits.target[whichInstance])\n",
    "prediction = nearestDistance(digits.images[whichInstance].reshape(64), digits.data, digits.target)\n",
    "print(\"prediction is \", prediction)\n",
    "plt.show()"
   ]
  },
  {
   "cell_type": "code",
   "execution_count": 53,
   "metadata": {},
   "outputs": [
    {
     "name": "stdout",
     "output_type": "stream",
     "text": [
      "[4]\n",
      "[[ 0.  0.  0.  0.  1.  0.  0.  0.  0.  0.]]\n"
     ]
    }
   ],
   "source": [
    "from sklearn.neighbors import KNeighborsClassifier\n",
    "neigh = KNeighborsClassifier(n_neighbors=3)\n",
    "X = digits.data\n",
    "y = digits.target\n",
    "neigh.fit(X, y)\n",
    "print(neigh.predict([digits.images[756].reshape(64)]))\n",
    "# predict_proba means predict probability, also means confidence\n",
    "print(neigh.predict_proba([digits.images[756].reshape(64)]))\n",
    "\n",
    "# [0, 0, 0, 0, 1, 0, 0, 0, 0, 0]\n",
    "# The array above means, this picture is 100% matching target[4], which is digit 4"
   ]
  },
  {
   "cell_type": "code",
   "execution_count": 77,
   "metadata": {},
   "outputs": [
    {
     "data": {
      "image/png": "[encoded data removed]",
      "text/plain": [
       "<matplotlib.figure.Figure at 0x7f600df529e8>"
      ]
     },
     "metadata": {},
     "output_type": "display_data"
    },
    {
     "name": "stdout",
     "output_type": "stream",
     "text": [
      "[0]\n",
      "[[ 0.66666667  0.          0.          0.          0.          0.          0.\n",
      "   0.          0.          0.33333333]]\n"
     ]
    }
   ],
   "source": [
    "\n",
    "def generateMatrix(input):\n",
    "    myPicture = []\n",
    "    for char in input.strip():\n",
    "        if char == '\\n':\n",
    "            continue\n",
    "        myPicture.append(15 if char == 'x' else 0);\n",
    "    return np.array(myPicture).reshape(8,8)\n",
    "plt.imshow(generateMatrix(input))\n",
    "plt.show()\n",
    "input = \"\"\"\n",
    "........\n",
    ".xxxxxx.\n",
    ".x......\n",
    ".xxxxxx.\n",
    ".x....x.\n",
    ".x....x.\n",
    ".xxxxxx.\n",
    "........\n",
    "\"\"\"\n",
    "print(neigh.predict([myPicture.reshape(64)]))\n",
    "print(neigh.predict_proba([myPicture.reshape(64)]))\n",
    "# The result means this picture is 66.67% close to target[0] which is digit ZER0,\n",
    "# and 33% close to target[9] which is digit NINE\n"
   ]
  },
  {
   "cell_type": "code",
   "execution_count": 163,
   "metadata": {
    "collapsed": true
   },
   "outputs": [],
   "source": [
    "def train_classifier(pivot):\n",
    "    training_data = digits.data[:pivot]\n",
    "    training_target = digits.target[:pivot]\n",
    "    testing_data = digits.data[pivot:]\n",
    "    testing_target = digits.target[pivot:]\n",
    "\n",
    "    myClassifier = KNeighborsClassifier(n_neighbors=3).fit(training_data, training_target)\n",
    "    predicted_target = myClassifier.predict(testing_data)\n",
    "    diff = np.abs(testing_target - predicted_target)\n",
    "    miss_count = len([x for x in diff if x != 0])\n",
    "    accuracy = (len(predicted_target) - miss_count) / len(predicted_target)\n",
    "    return accuracy, predicted_target"
   ]
  },
  {
   "cell_type": "code",
   "execution_count": 167,
   "metadata": {},
   "outputs": [
    {
     "data": {
      "text/plain": [
       "0.9648682559598495"
      ]
     },
     "execution_count": 167,
     "metadata": {},
     "output_type": "execute_result"
    }
   ],
   "source": [
    "accuracy, predicted_target = train_classifier(1000)\n",
    "accuracy"
   ]
  },
  {
   "cell_type": "code",
   "execution_count": 169,
   "metadata": {},
   "outputs": [
    {
     "data": {
      "image/png": "[encoded data removed]",
      "text/plain": [
       "<matplotlib.figure.Figure at 0x7f600d728b38>"
      ]
     },
     "metadata": {},
     "output_type": "display_data"
    }
   ],
   "source": [
    "X = range(len(digits.data))[10:-10]\n",
    "y = []\n",
    "for i in X:\n",
    "    accuracy, predicted = train_classifier(i)\n",
    "    y.append(accuracy)\n",
    "    \n",
    "plt.plot(X, y)\n",
    "plt.show()"
   ]
  },
  {
   "cell_type": "code",
   "execution_count": 154,
   "metadata": {},
   "outputs": [
    {
     "name": "stdout",
     "output_type": "stream",
     "text": [
      "The prediction is best when the pivot is  1681\n",
      "Where the accuracy is  0.991379310345\n"
     ]
    }
   ],
   "source": [
    "np.argmax(y)\n",
    "print(\"The prediction is best when the pivot is \", np.array(X)[np.argmax(y)])\n",
    "print(\"Where the accuracy is \", np.max(y))"
   ]
  },
  {
   "cell_type": "code",
   "execution_count": 162,
   "metadata": {},
   "outputs": [
    {
     "data": {
      "text/plain": [
       "0.9648682559598495"
      ]
     },
     "execution_count": 162,
     "metadata": {},
     "output_type": "execute_result"
    }
   ],
   "source": [
    "train_classifier(1000)"
   ]
  },
  {
   "cell_type": "code",
   "execution_count": 179,
   "metadata": {},
   "outputs": [
    {
     "name": "stdout",
     "output_type": "stream",
     "text": [
      "[[78  0  0  0  1  0  0  0  0  0]\n",
      " [ 0 79  0  0  0  0  0  0  1  0]\n",
      " [ 1  0 73  3  0  0  0  0  0  0]\n",
      " [ 0  0  1 73  0  1  0  2  2  0]\n",
      " [ 0  0  0  0 78  0  0  1  0  4]\n",
      " [ 0  0  0  0  0 81  1  0  0  0]\n",
      " [ 0  0  0  0  0  0 80  0  0  0]\n",
      " [ 0  0  0  0  0  0  0 80  0  0]\n",
      " [ 0  2  1  0  0  0  0  0 73  0]\n",
      " [ 0  0  0  3  0  3  0  0  1 74]]\n"
     ]
    }
   ],
   "source": [
    "from sklearn.metrics import confusion_matrix\n",
    "accuracy, predicted_target = train_classifier(1000)\n",
    "# What is confusion matrix ? \n",
    "# Check out here\n",
    "# www.quora.con/Classification-machine-learning-What-is-confusion-matrix\n",
    "cm = confusion_matrix(testing_target, predicted_target)\n",
    "print(cm)\n",
    "\n"
   ]
  }
 ],
 "metadata": {
  "kernelspec": {
   "display_name": "Python 3",
   "language": "python",
   "name": "python3"
  },
  "language_info": {
   "codemirror_mode": {
    "name": "ipython",
    "version": 3
   },
   "file_extension": ".py",
   "mimetype": "text/x-python",
   "name": "python",
   "nbconvert_exporter": "python",
   "pygments_lexer": "ipython3",
   "version": "3.6.3"
  }
 },
 "nbformat": 4,
 "nbformat_minor": 2
}
