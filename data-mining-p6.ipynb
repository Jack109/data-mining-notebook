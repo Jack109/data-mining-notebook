{
 "cells": [
  {
   "cell_type": "code",
   "execution_count": 2,
   "metadata": {},
   "outputs": [],
   "source": [
    "from sklearn import datasets\n",
    "digits = datasets.load_digits()"
   ]
  },
  {
   "cell_type": "code",
   "execution_count": 6,
   "metadata": {
    "collapsed": true
   },
   "outputs": [],
   "source": [
    "import numpy as np\n",
    "X = digits.data\n",
    "y = digits.target"
   ]
  },
  {
   "cell_type": "code",
   "execution_count": 4,
   "metadata": {
    "collapsed": true
   },
   "outputs": [],
   "source": [
    "from sklearn.model_selection import train_test_split"
   ]
  },
  {
   "cell_type": "code",
   "execution_count": 7,
   "metadata": {},
   "outputs": [],
   "source": [
    "X_train, X_test, y_train, y_test = train_test_split(X, y, test_size = 0.4)"
   ]
  },
  {
   "cell_type": "code",
   "execution_count": null,
   "metadata": {
    "collapsed": true
   },
   "outputs": [],
   "source": []
  },
  {
   "cell_type": "markdown",
   "metadata": {},
   "source": [
    "When using K-Fold CV, if K = len(data), then this method is known as Leave-One-Out, usually K = 3, but when we have very less amount of data, we will use Leave-One-Out to maximize the training."
   ]
  },
  {
   "cell_type": "code",
   "execution_count": 19,
   "metadata": {},
   "outputs": [
    {
     "name": "stdout",
     "output_type": "stream",
     "text": [
      "[ 599  600  601 ..., 1794 1795 1796]\n",
      "(1198,)\n",
      "(599,)\n",
      "0.868113522538\n",
      "[[63  0  0  0  0  0  0  0  0  0]\n",
      " [ 0 56  0  0  0  0  1  0  0  3]\n",
      " [ 0  0 49  0  0  0  0  0 12  0]\n",
      " [ 0  0  1 58  0  1  0  0  0  1]\n",
      " [ 0 10  0  0 45  0  1  0  1  0]\n",
      " [ 0  1  0  1  0 55  0  0  1  3]\n",
      " [ 0  2  0  0  1  2 53  0  2  0]\n",
      " [ 7  0  0  1  3  0  0 46  1  1]\n",
      " [ 0  3  0  3  0  0  0  0 51  1]\n",
      " [ 1  1  1  2  0  0  0  3  7 44]]\n",
      "[   0    1    2 ..., 1794 1795 1796]\n",
      "(1198,)\n",
      "(599,)\n",
      "0.921535893155\n",
      "[[55  0  0  0  1  0  0  0  0  0]\n",
      " [ 0 58  0  0  0  0  0  0  1  1]\n",
      " [ 0  1 54  0  0  0  0  0  1  0]\n",
      " [ 0  0  0 57  0  1  0  1  1  0]\n",
      " [ 0  0  0  0 60  0  0  1  0  1]\n",
      " [ 0  1  0  1  3 56  0  0  0  1]\n",
      " [ 1  0  0  0  0  1 58  0  0  0]\n",
      " [ 0  0  0  0  2  0  0 56  1  0]\n",
      " [ 1  4  1  1  0  1  1  1 51  0]\n",
      " [ 1  4  0  2  1  4  1  1  2 47]]\n",
      "[   0    1    2 ..., 1195 1196 1197]\n",
      "(1198,)\n",
      "(599,)\n",
      "0.881469115192\n",
      "[[58  0  0  0  1  0  0  0  0  0]\n",
      " [ 0 53  0  3  0  1  0  0  0  5]\n",
      " [ 1  0 53  2  0  0  0  0  0  4]\n",
      " [ 0  3  1 51  0  2  1  2  1  1]\n",
      " [ 4  0  0  0 55  1  0  2  0  0]\n",
      " [ 0  0  0  0  1 53  3  0  0  2]\n",
      " [ 0  2  0  1  0  1 57  0  0  0]\n",
      " [ 0  0  0  0  0  3  0 58  0  0]\n",
      " [ 0  5  0  3  0  1  0  2 41  3]\n",
      " [ 1  0  0  2  0  4  0  2  0 49]]\n"
     ]
    }
   ],
   "source": [
    "from sklearn.model_selection import KFold\n",
    "from sklearn.ensemble import RandomForestClassifier\n",
    "from sklearn.metrics import accuracy_score, confusion_matrix\n",
    "kf = KFold(n_splits=3)\n",
    "for train, test in kf.split(X):\n",
    "    print(train) # train and test is a set of index \n",
    "    print(train.shape)\n",
    "    print(test.shape)\n",
    "    X_train = X[train]\n",
    "    X_test = X[test]\n",
    "    y_train = y[train]\n",
    "    y_test = y[test]\n",
    "    \n",
    "    clf = RandomForestClassifier()\n",
    "    clf.fit(X_train, y_train)\n",
    "    predicted = clf.predict(X_test)\n",
    "    print(accuracy_score(y_test, predicted))\n",
    "    print(confusion_matrix(y_test, predicted))"
   ]
  },
  {
   "cell_type": "code",
   "execution_count": 17,
   "metadata": {},
   "outputs": [
    {
     "data": {
      "text/plain": [
       "array([1, 5])"
      ]
     },
     "execution_count": 17,
     "metadata": {},
     "output_type": "execute_result"
    }
   ],
   "source": [
    "# NOTE: some shorcut hack to get list of element from a np array \n",
    "# You can't do this is normal Python\n",
    "a = np.array([1, 3, 4, 5])\n",
    "a[[0,3]]"
   ]
  }
 ],
 "metadata": {
  "kernelspec": {
   "display_name": "Python 3",
   "language": "python",
   "name": "python3"
  },
  "language_info": {
   "codemirror_mode": {
    "name": "ipython",
    "version": 3
   },
   "file_extension": ".py",
   "mimetype": "text/x-python",
   "name": "python",
   "nbconvert_exporter": "python",
   "pygments_lexer": "ipython3",
   "version": "3.6.3"
  }
 },
 "nbformat": 4,
 "nbformat_minor": 2
}
